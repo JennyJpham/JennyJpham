{
 "cells": [
  {
   "cell_type": "code",
   "execution_count": null,
   "id": "317e4c9e",
   "metadata": {},
   "outputs": [],
   "source": [
    "pip install snscrape"
   ]
  },
  {
   "cell_type": "code",
   "execution_count": null,
   "id": "7156efe8",
   "metadata": {},
   "outputs": [],
   "source": [
    "pip install --upgrade pip"
   ]
  },
  {
   "cell_type": "code",
   "execution_count": null,
   "id": "50bdf00a",
   "metadata": {},
   "outputs": [],
   "source": [
    "pip install pandas"
   ]
  },
  {
   "cell_type": "markdown",
   "id": "121c7dbb",
   "metadata": {},
   "source": [
    "# Import libraties"
   ]
  },
  {
   "cell_type": "code",
   "execution_count": 2,
   "id": "e2975437",
   "metadata": {},
   "outputs": [],
   "source": [
    "import snscrape.modules.twitter as sntwitter\n",
    "import pandas as pd\n",
    "import snscrape"
   ]
  },
  {
   "cell_type": "markdown",
   "id": "3e92a945",
   "metadata": {},
   "source": [
    "## Search query "
   ]
  },
  {
   "cell_type": "code",
   "execution_count": 3,
   "id": "fa67f1f0",
   "metadata": {},
   "outputs": [],
   "source": [
    "query = \"(from:elonmusk) until:2020-01-01 since:2010-01-01\""
   ]
  },
  {
   "cell_type": "code",
   "execution_count": 4,
   "id": "ea560ced",
   "metadata": {},
   "outputs": [],
   "source": [
    "tweets = []\n",
    "limit = 5000"
   ]
  },
  {
   "cell_type": "code",
   "execution_count": 5,
   "id": "a36efe35",
   "metadata": {
    "scrolled": true
   },
   "outputs": [
    {
     "name": "stdout",
     "output_type": "stream",
     "text": [
      "                          Date      User  \\\n",
      "0    2019-12-31 21:37:06+00:00  elonmusk   \n",
      "1    2019-12-31 06:59:34+00:00  elonmusk   \n",
      "2    2019-12-31 06:57:57+00:00  elonmusk   \n",
      "3    2019-12-31 02:27:28+00:00  elonmusk   \n",
      "4    2019-12-30 23:27:10+00:00  elonmusk   \n",
      "...                        ...       ...   \n",
      "4995 2018-03-23 15:42:50+00:00  elonmusk   \n",
      "4996 2018-03-23 10:18:45+00:00  elonmusk   \n",
      "4997 2018-03-23 09:24:45+00:00  elonmusk   \n",
      "4998 2018-03-23 04:37:59+00:00  elonmusk   \n",
      "4999 2018-03-23 01:22:14+00:00  elonmusk   \n",
      "\n",
      "                                                  Tweet  \n",
      "0             @engineers_feed @physicsJ It’s a bit slow  \n",
      "1                     @JohnnaCrider1 It’s not ready yet  \n",
      "2                            @newscientist Explains 🐈 🎥  \n",
      "3     @teslaownersSV @rhoehn Thanks all Tesla club m...  \n",
      "4         Rest in peace Syd Mead. Your art will endure.  \n",
      "...                                                 ...  \n",
      "4995                           @SmileSimplify Umm...yes  \n",
      "4996                                       @benflux Yes  \n",
      "4997  @georgepaul82 I double-dare them to come back!...  \n",
      "4998  No technology is too advanced for The Boring C...  \n",
      "4999  @Lori_Garver @JeffBezos That said, Lori deserv...  \n",
      "\n",
      "[5000 rows x 3 columns]\n"
     ]
    }
   ],
   "source": [
    "for tweet in sntwitter.TwitterSearchScraper(query).get_items():\n",
    "    if len(tweets) == limit:\n",
    "        break\n",
    "    else:\n",
    "        tweets.append([tweet.date, tweet.user.username, tweet.content])\n",
    "df = pd.DataFrame(tweets, columns=['Date', 'User', 'Tweet'])  \n",
    "print(df)"
   ]
  },
  {
   "cell_type": "markdown",
   "id": "fd0ce130",
   "metadata": {},
   "source": [
    "## Save to csv file"
   ]
  },
  {
   "cell_type": "code",
   "execution_count": 10,
   "id": "9130f842",
   "metadata": {},
   "outputs": [],
   "source": [
    "df.to_csv('tweet.csv')"
   ]
  },
  {
   "cell_type": "code",
   "execution_count": 9,
   "id": "947a0370",
   "metadata": {},
   "outputs": [
    {
     "name": "stdout",
     "output_type": "stream",
     "text": [
      "{'url': 'https://twitter.com/elonmusk/status/1212125553416794114', 'date': datetime.datetime(2019, 12, 31, 21, 37, 6, tzinfo=datetime.timezone.utc), 'content': '@engineers_feed @physicsJ It’s a bit slow', 'renderedContent': '@engineers_feed @physicsJ It’s a bit slow', 'id': 1212125553416794114, 'user': User(username='elonmusk', id=44196397, displayname='Elon Musk', description='', rawDescription='', descriptionUrls=None, verified=True, created=datetime.datetime(2009, 6, 2, 20, 12, 29, tzinfo=datetime.timezone.utc), followersCount=107695929, friendsCount=122, statusesCount=19441, favouritesCount=14326, listedCount=98087, mediaCount=1236, location='', protected=False, linkUrl=None, linkTcourl=None, profileImageUrl='https://pbs.twimg.com/profile_images/1572573363255525377/Xz3fufYY_normal.jpg', profileBannerUrl='https://pbs.twimg.com/profile_banners/44196397/1576183471', label=None), 'replyCount': 371, 'retweetCount': 413, 'likeCount': 11469, 'quoteCount': 26, 'conversationId': 1212016456101175297, 'lang': 'en', 'source': '<a href=\"http://twitter.com/download/iphone\" rel=\"nofollow\">Twitter for iPhone</a>', 'sourceUrl': 'http://twitter.com/download/iphone', 'sourceLabel': 'Twitter for iPhone', 'outlinks': None, 'tcooutlinks': None, 'media': None, 'retweetedTweet': None, 'quotedTweet': None, 'inReplyToTweetId': 1212016456101175297, 'inReplyToUser': User(username='engineers_feed', id=3429950987, displayname='World of Engineering', description=None, rawDescription=None, descriptionUrls=None, verified=None, created=None, followersCount=None, friendsCount=None, statusesCount=None, favouritesCount=None, listedCount=None, mediaCount=None, location=None, protected=None, linkUrl=None, linkTcourl=None, profileImageUrl=None, profileBannerUrl=None, label=None), 'mentionedUsers': [User(username='engineers_feed', id=3429950987, displayname='World of Engineering', description=None, rawDescription=None, descriptionUrls=None, verified=None, created=None, followersCount=None, friendsCount=None, statusesCount=None, favouritesCount=None, listedCount=None, mediaCount=None, location=None, protected=None, linkUrl=None, linkTcourl=None, profileImageUrl=None, profileBannerUrl=None, label=None), User(username='physicsJ', id=229623319, displayname=\"Dr James O'Donoghue\", description=None, rawDescription=None, descriptionUrls=None, verified=None, created=None, followersCount=None, friendsCount=None, statusesCount=None, favouritesCount=None, listedCount=None, mediaCount=None, location=None, protected=None, linkUrl=None, linkTcourl=None, profileImageUrl=None, profileBannerUrl=None, label=None)], 'coordinates': None, 'place': None, 'hashtags': None, 'cashtags': None}\n"
     ]
    }
   ],
   "source": [
    "for tweet in sntwitter.TwitterSearchScraper(query).get_items():\n",
    "    print(vars(tweet))\n",
    "    break"
   ]
  },
  {
   "cell_type": "code",
   "execution_count": null,
   "id": "56ddc813",
   "metadata": {},
   "outputs": [],
   "source": []
  }
 ],
 "metadata": {
  "kernelspec": {
   "display_name": "Python 3 (ipykernel)",
   "language": "python",
   "name": "python3"
  },
  "language_info": {
   "codemirror_mode": {
    "name": "ipython",
    "version": 3
   },
   "file_extension": ".py",
   "mimetype": "text/x-python",
   "name": "python",
   "nbconvert_exporter": "python",
   "pygments_lexer": "ipython3",
   "version": "3.8.12"
  }
 },
 "nbformat": 4,
 "nbformat_minor": 5
}
